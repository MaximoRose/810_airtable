{
 "cells": [
  {
   "cell_type": "markdown",
   "source": [
    "# Test des fonctions sur une de mes bases Airtable"
   ],
   "metadata": {}
  },
  {
   "cell_type": "code",
   "execution_count": 2,
   "source": [
    "from a_at_loader_810 import atListe\n",
    "import datetime\n",
    "from a_load_paramz_810 import api_parameters\n",
    "import pandas as pd\n",
    "import json\n",
    "\n",
    "# On charge les parametres du fichier .json\n",
    "my_parameters = api_parameters()\n",
    "\n",
    "# Initialiser les parametre Airtable\n",
    "at_APIkey = my_parameters.airtable_api_key \n",
    "at_baseId = my_parameters.airtable_base_id \n",
    "at_tableName = my_parameters.airtable_table_name \n",
    "\n",
    "# Connection et acces a la table concernee dans Airtable\n",
    "myAirtable = atListe(at_baseId, at_tableName, at_APIkey)\n",
    "# Recuperation de l'ensemble des entrees de la table airtable\n",
    "my_at_records = myAirtable.get_at_AllRecords()\n",
    "\n",
    "# On affiche le nombre de lignes\n",
    "print(len(my_at_records))"
   ],
   "outputs": [
    {
     "output_type": "stream",
     "name": "stdout",
     "text": [
      "90\n"
     ]
    }
   ],
   "metadata": {}
  },
  {
   "cell_type": "code",
   "execution_count": 3,
   "source": [
    "# On affiche la premiere ligne pour voir la tete de notre table\n",
    "my_at_records[0]"
   ],
   "outputs": [
    {
     "output_type": "execute_result",
     "data": {
      "text/plain": [
       "{'id': 'rec0cDaTapMJr5nIo',\n",
       " 'fields': {'Name': 'Théâtre national de la Colline',\n",
       "  'Adresse / contact': '15, rue Malte-Brun\\n75020 Paris\\nTél : 01 44 62 52 52',\n",
       "  'Type-style': ['Centre culturel', 'Industriel et commercial'],\n",
       "  'Site': 'https://www.colline.fr/',\n",
       "  'Ville': 'Paris (RP)',\n",
       "  'Specialites': ['Musique', 'Theatre', 'Danse'],\n",
       "  'Structure et rattachement': 'EP du MCC'},\n",
       " 'createdTime': '2021-07-07T09:23:50.000Z'}"
      ]
     },
     "metadata": {},
     "execution_count": 3
    }
   ],
   "metadata": {}
  },
  {
   "cell_type": "code",
   "execution_count": 4,
   "source": [
    "# On teste un peu les types, pour etre sur qu'on a pas une chaine de caracteres qui ressemble a une liste\n",
    "type(my_at_records[0]['fields']['Specialites'])"
   ],
   "outputs": [
    {
     "output_type": "execute_result",
     "data": {
      "text/plain": [
       "list"
      ]
     },
     "metadata": {},
     "execution_count": 4
    }
   ],
   "metadata": {}
  },
  {
   "cell_type": "code",
   "execution_count": 5,
   "source": [
    "# On teste la fonction de filtrage\n",
    "list_organismes_theatre = myAirtable.filter_at_pages(colonne_name='Specialites', colonne_value='Theatre')\n",
    "# On affiche la taille de la liste filtree\n",
    "print(len(list_organismes_theatre))"
   ],
   "outputs": [
    {
     "output_type": "stream",
     "name": "stdout",
     "text": [
      "7\n"
     ]
    }
   ],
   "metadata": {}
  },
  {
   "cell_type": "code",
   "execution_count": 6,
   "source": [
    "# On regarde ce que conyienne les lignes qui ont retourne une erreur\n",
    "list_bpi = myAirtable.filter_at_pages(colonne_name='Name', colonne_value=\"Bibliothèque publique d'information (BPI)\")\n",
    "list_bpi"
   ],
   "outputs": [
    {
     "output_type": "execute_result",
     "data": {
      "text/plain": [
       "[{'id': 'recbjhEumXtIp7xCO',\n",
       "  'fields': {'Name': \"Bibliothèque publique d'information (BPI)\",\n",
       "   'Adresse / contact': '19 rue Beaubourg, dans le Centre Pompidou\\n75004 Paris\\nTél : 01 44 78 12 75',\n",
       "   'Type-style': ['Bibliotheque'],\n",
       "   'Site': 'http://www.bpi.fr/',\n",
       "   'Ville': 'Paris (RP)',\n",
       "   'Specialites': ['Divers'],\n",
       "   'Structure et rattachement': 'EP du MCC',\n",
       "   'YouTube': 'https://www.youtube.com/channel/UCc6F_5d78VvaFc07XNRBrdw',\n",
       "   'InstaName': 'bpi_pompidou'},\n",
       "  'createdTime': '2021-07-07T07:37:22.000Z'}]"
      ]
     },
     "metadata": {},
     "execution_count": 6
    }
   ],
   "metadata": {}
  },
  {
   "cell_type": "code",
   "execution_count": 7,
   "source": [
    "# test avec import config file\n",
    "list_cinema = myAirtable.filter_at_pages(colonne_name=my_parameters.airtable_filtered_colonne, colonne_value=my_parameters.airtable_filtered_value)\n",
    "print(len(list_cinema))"
   ],
   "outputs": [
    {
     "output_type": "stream",
     "name": "stdout",
     "text": [
      "3\n"
     ]
    }
   ],
   "metadata": {}
  }
 ],
 "metadata": {
  "orig_nbformat": 4,
  "language_info": {
   "name": "python",
   "version": "3.8.5",
   "mimetype": "text/x-python",
   "codemirror_mode": {
    "name": "ipython",
    "version": 3
   },
   "pygments_lexer": "ipython3",
   "nbconvert_exporter": "python",
   "file_extension": ".py"
  },
  "kernelspec": {
   "name": "python3",
   "display_name": "Python 3.8.5 64-bit ('base': conda)"
  },
  "interpreter": {
   "hash": "2ed17ee1431ea646ff4cd0e36ebc6074f1354fab28092324062941991356fcdc"
  }
 },
 "nbformat": 4,
 "nbformat_minor": 2
}